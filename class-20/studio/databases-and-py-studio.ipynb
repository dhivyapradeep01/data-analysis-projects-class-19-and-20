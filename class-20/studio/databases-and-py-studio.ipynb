{
    "cells": [
        {
            "attachments": {},
            "cell_type": "markdown",
            "metadata": {
                "azdata_cell_guid": "54326aff-51cd-4766-8046-828a92489c6d"
            },
            "source": [
                "# Studio: Working with Databases in Python\n",
                "\n",
                "For today's studio, we will be using the [TV Shows dataset](https://www.kaggle.com/ruchi798/tv-shows-on-netflix-prime-video-hulu-and-disney) from Kaggle. We have already downloaded the CSV for you.\n",
                "\n",
                "You will use the watchlist you created to answer these questions:\n",
                "\n",
                "1. **Which streaming services contain the shows you want to watch next?**\n",
                "2. **Which streaming service is the best value based on the shows you want to watch?**\n",
                "\n",
                "As you complete the different tasks in the studio, you may choose between using Pandas or SQL. \n",
                "\n",
                "**Remember**: we learned in our prep work that one is oftentimes more efficient at certain tasks than the other, so choose wisely!"
            ]
        },
        {
            "attachments": {},
            "cell_type": "markdown",
            "metadata": {
                "azdata_cell_guid": "00bc62ef-6c46-40a2-bdad-a3250a003ce7"
            },
            "source": [
                "## My Watchlist\n",
                "\n",
                "If you would like, please use this space to make note of your watchlist by editing the text cell. You will need 10 shows overall.\n",
                "\n",
                "1.Wednesday \n",
                "2.Heartstopper\n",
                "3.Family Reunion\n",
                "4.Jurassic World Camp Cretaceous\n",
                "5.Gabby's Dollhouse\n",
                "6.The Dragon Prince\n",
                "7.Anne with an E\n",
                "8.Fuller House\n",
                "9.Raising Dion\n",
                "10.The Last Kids on Earth"
            ]
        },
        {
            "cell_type": "markdown",
            "metadata": {
                "azdata_cell_guid": "040bdac5-f7fc-474f-b112-1d807249ad0a"
            },
            "source": [
                "## Database Setup\n",
                "\n",
                "Import the necessary libraries and create a dataframe from the provided CSV. \n",
                "\n",
                "Print the info out for the dataframe. \n",
                "\n",
                "After that, you may drop the column called `Unnamed: 0` and rename any columns with spaces or unusual characters in the names such as `\"Disney+\"`. \n",
                "\n",
                "Print out the info for the dataframe again to ensure your changes were made."
            ]
        },
        {
            "cell_type": "code",
            "execution_count": 17,
            "metadata": {
                "azdata_cell_guid": "965f15d3-27b1-43ed-97e4-8c6fd482476c",
                "tags": []
            },
            "outputs": [
                {
                    "name": "stdout",
                    "output_type": "stream",
                    "text": [
                        "Initial dataframe info:\n",
                        "<class 'pandas.core.frame.DataFrame'>\n",
                        "RangeIndex: 5368 entries, 0 to 5367\n",
                        "Data columns (total 12 columns):\n",
                        " #   Column           Non-Null Count  Dtype \n",
                        "---  ------           --------------  ----- \n",
                        " 0   Unnamed: 0       5368 non-null   int64 \n",
                        " 1   ID               5368 non-null   int64 \n",
                        " 2   Title            5368 non-null   object\n",
                        " 3   Year             5368 non-null   int64 \n",
                        " 4   Age              3241 non-null   object\n",
                        " 5   IMDb             4406 non-null   object\n",
                        " 6   Rotten Tomatoes  5368 non-null   object\n",
                        " 7   Netflix          5368 non-null   int64 \n",
                        " 8   Hulu             5368 non-null   int64 \n",
                        " 9   Prime Video      5368 non-null   int64 \n",
                        " 10  Disney+          5368 non-null   int64 \n",
                        " 11  Type             5368 non-null   int64 \n",
                        "dtypes: int64(8), object(4)\n",
                        "memory usage: 503.4+ KB\n",
                        "\n",
                        "Updated dataframe info:\n",
                        "<class 'pandas.core.frame.DataFrame'>\n",
                        "RangeIndex: 5368 entries, 0 to 5367\n",
                        "Data columns (total 11 columns):\n",
                        " #   Column           Non-Null Count  Dtype \n",
                        "---  ------           --------------  ----- \n",
                        " 0   ID               5368 non-null   int64 \n",
                        " 1   Title            5368 non-null   object\n",
                        " 2   Year             5368 non-null   int64 \n",
                        " 3   Age              3241 non-null   object\n",
                        " 4   IMDb             4406 non-null   object\n",
                        " 5   Rotten Tomatoes  5368 non-null   object\n",
                        " 6   Netflix          5368 non-null   int64 \n",
                        " 7   Hulu             5368 non-null   int64 \n",
                        " 8   Prime Video      5368 non-null   int64 \n",
                        " 9   Disney_Plus      5368 non-null   int64 \n",
                        " 10  Type             5368 non-null   int64 \n",
                        "dtypes: int64(7), object(4)\n",
                        "memory usage: 461.4+ KB\n"
                    ]
                }
            ],
            "source": [
                "# Code here\n",
                "#import libraries\n",
                "import sqlite3\n",
                "import pandas as pd\n",
                "\n",
                "df = pd.read_csv('tv_shows.csv')\n",
                "\n",
                "print(\"Initial dataframe info:\")\n",
                "df.info()\n",
                "\n",
                "df = df.drop(columns=['Unnamed: 0'])\n",
                "df = df.rename(columns={'Disney+': 'Disney_Plus'})\n",
                "\n",
                "print(\"\\nUpdated dataframe info:\")\n",
                "df.info()\n",
                "\n"
            ]
        },
        {
            "attachments": {},
            "cell_type": "markdown",
            "metadata": {
                "azdata_cell_guid": "93875e01-f1ec-45ab-b8b3-c0fe09c89c41"
            },
            "source": [
                "With your dataframe at the ready, create a new database called `tv.db`. \n",
                "\n",
                "Add a new table to your database called `shows` using the data in the dataframe. "
            ]
        },
        {
            "cell_type": "code",
            "execution_count": 18,
            "metadata": {
                "azdata_cell_guid": "cae4affc-d930-4649-9c39-551475a83b5b",
                "tags": []
            },
            "outputs": [
                {
                    "name": "stdout",
                    "output_type": "stream",
                    "text": [
                        "[(1, 'Breaking Bad', 2008, '18+', '9.4/10', '100/100', 1, 0, 0, 0, 1), (2, 'Stranger Things', 2016, '16+', '8.7/10', '96/100', 1, 0, 0, 0, 1), (3, 'Attack on Titan', 2013, '18+', '9.0/10', '95/100', 1, 1, 0, 0, 1), (4, 'Better Call Saul', 2015, '18+', '8.8/10', '94/100', 1, 0, 0, 0, 1), (5, 'Dark', 2017, '16+', '8.8/10', '93/100', 1, 0, 0, 0, 1)]\n"
                    ]
                }
            ],
            "source": [
                "# Code here\n",
                "con = sqlite3.connect('tv.db')\n",
                "\n",
                "df.to_sql('shows', con, index=False, if_exists='replace')\n",
                "\n",
                "cursor = con.cursor()\n",
                "cursor.execute(\"SELECT * FROM shows LIMIT 5\")\n",
                "print(cursor.fetchall())\n"
            ]
        },
        {
            "attachments": {},
            "cell_type": "markdown",
            "metadata": {
                "azdata_cell_guid": "4916f211-149f-467b-b5e4-22ad946b54f2"
            },
            "source": [
                "With your new table and database set up, print out the top 20 records in the `shows` table."
            ]
        },
        {
            "cell_type": "code",
            "execution_count": 19,
            "metadata": {
                "azdata_cell_guid": "c6aa3980-3eef-4d7d-8f04-961508662147",
                "tags": []
            },
            "outputs": [
                {
                    "name": "stdout",
                    "output_type": "stream",
                    "text": [
                        "Top 20 records from the 'shows' table:\n",
                        "(1, 'Breaking Bad', 2008, '18+', '9.4/10', '100/100', 1, 0, 0, 0, 1)\n",
                        "(2, 'Stranger Things', 2016, '16+', '8.7/10', '96/100', 1, 0, 0, 0, 1)\n",
                        "(3, 'Attack on Titan', 2013, '18+', '9.0/10', '95/100', 1, 1, 0, 0, 1)\n",
                        "(4, 'Better Call Saul', 2015, '18+', '8.8/10', '94/100', 1, 0, 0, 0, 1)\n",
                        "(5, 'Dark', 2017, '16+', '8.8/10', '93/100', 1, 0, 0, 0, 1)\n",
                        "(6, 'Avatar: The Last Airbender', 2005, '7+', '9.3/10', '93/100', 1, 0, 1, 0, 1)\n",
                        "(7, 'Peaky Blinders', 2013, '18+', '8.8/10', '93/100', 1, 0, 0, 0, 1)\n",
                        "(8, 'The Walking Dead', 2010, '18+', '8.2/10', '93/100', 1, 0, 0, 0, 1)\n",
                        "(9, 'Black Mirror', 2011, '18+', '8.8/10', '92/100', 1, 0, 0, 0, 1)\n",
                        "(10, \"The Queen's Gambit\", 2020, '18+', '8.6/10', '92/100', 1, 0, 0, 0, 1)\n",
                        "(11, 'Mindhunter', 2017, '18+', '8.6/10', '90/100', 1, 0, 0, 0, 1)\n",
                        "(12, 'Community', 2009, '7+', '8.5/10', '90/100', 1, 1, 1, 0, 1)\n",
                        "(13, 'Narcos', 2015, '18+', '8.8/10', '90/100', 1, 0, 0, 0, 1)\n",
                        "(14, 'Shameless', 2011, '18+', '8.5/10', '90/100', 1, 1, 1, 0, 1)\n",
                        "(15, 'Money Heist', 2017, '18+', '8.3/10', '90/100', 1, 0, 0, 0, 1)\n",
                        "(16, \"Marvel's Daredevil\", 2015, '18+', '8.6/10', '90/100', 1, 0, 0, 0, 1)\n",
                        "(17, 'Lucifer', 2016, '16+', '8.1/10', '90/100', 1, 0, 0, 0, 1)\n",
                        "(18, 'Supernatural', 2005, '16+', '8.4/10', '89/100', 1, 0, 0, 0, 1)\n",
                        "(19, 'The Witcher', 2019, '18+', '8.2/10', '89/100', 1, 0, 0, 0, 1)\n",
                        "(20, 'Ozark', 2017, '18+', '8.4/10', '89/100', 1, 0, 0, 0, 1)\n"
                    ]
                }
            ],
            "source": [
                "cursor.execute(\"SELECT * FROM shows LIMIT 20\")\n",
                "results = cursor.fetchall()\n",
                "\n",
                "\n",
                "print(\"Top 20 records from the 'shows' table:\")\n",
                "for row in results:\n",
                "    print(row)\n",
                "\n"
            ]
        },
        {
            "attachments": {},
            "cell_type": "markdown",
            "metadata": {
                "azdata_cell_guid": "f158ccd2-c87a-4d2c-a947-0eadd0484a3e"
            },
            "source": [
                "Now, create a new table called `watchlist` that has three fields:\n",
                "1. id -> data type of `INTEGER NOT NULL PRIMARY KEY AUTOINCREMENT`\n",
                "2. title -> data type of `TEXT`\n",
                "3. importance_rank -> data type of `INTEGER`\n",
                "\n",
                "For the `importance_rank` field, rank each of your watchlist shows based on how much you want to see them, `10` being the most important and `1` being the least important.\n",
                "\n",
                "Then, insert each of the items from your watchlist into the new `watchlist` table, using the `executemany` method from our exercises.\n",
                "\n",
                "Finally, select all the records from the `watchlist` table and print them out to the console."
            ]
        },
        {
            "cell_type": "code",
            "execution_count": 20,
            "metadata": {
                "azdata_cell_guid": "f95defad-521b-4112-8435-08daaac80b80"
            },
            "outputs": [
                {
                    "name": "stdout",
                    "output_type": "stream",
                    "text": [
                        "Records in the 'watchlist' table:\n",
                        "(1, 'Wednesday', 10)\n",
                        "(2, 'Heartstopper', 9)\n",
                        "(3, 'Family Reunion', 8)\n",
                        "(4, 'Jurassic World Camp Cretaceous', 7)\n",
                        "(5, \"Gabby's Dollhouse\", 6)\n",
                        "(6, 'Cosmos', 5)\n",
                        "(7, 'Malcolm in the Middle', 4)\n",
                        "(8, 'Fuller House', 3)\n",
                        "(9, 'Raising Dion', 2)\n",
                        "(10, 'The Last Kids on Earth', 1)\n"
                    ]
                }
            ],
            "source": [
                "\n",
                "cursor.execute('DROP TABLE IF EXISTS watchlist')\n",
                "\n",
                "cursor.execute('''\n",
                "CREATE TABLE watchlist (\n",
                "    id INTEGER NOT NULL PRIMARY KEY AUTOINCREMENT,\n",
                "    title TEXT,\n",
                "    importance_rank INTEGER\n",
                ")\n",
                "''')\n",
                "\n",
                "watchlist_data = [\n",
                "    (\"Wednesday\", 10),\n",
                "    (\"Heartstopper\", 9),\n",
                "    (\"Family Reunion\", 8),\n",
                "    (\"Jurassic World Camp Cretaceous\", 7),\n",
                "    (\"Gabby's Dollhouse\", 6),\n",
                "    (\"Cosmos\", 5),\n",
                "    (\"Malcolm in the Middle\", 4),\n",
                "    (\"Fuller House\", 3),\n",
                "    (\"Raising Dion\", 2),\n",
                "    (\"The Last Kids on Earth\", 1)\n",
                "]\n",
                "\n",
                "cursor.executemany('''\n",
                "INSERT INTO watchlist (title, importance_rank)\n",
                "VALUES (?, ?)\n",
                "''', watchlist_data)\n",
                "\n",
                "con.commit()\n",
                "\n",
                "cursor.execute(\"SELECT * FROM watchlist ORDER BY importance_rank DESC\")\n",
                "results = cursor.fetchall()\n",
                "\n",
                "print(\"Records in the 'watchlist' table:\")\n",
                "for row in results:\n",
                "    print(row)\n",
                "\n"
            ]
        },
        {
            "attachments": {},
            "cell_type": "markdown",
            "metadata": {
                "azdata_cell_guid": "4716090d-63e3-4283-8245-934c4a28c750"
            },
            "source": [
                "## Working with the Data\n",
                "\n",
                "Using Pandas or SQL, find the answer to these 2 questions:\n",
                "1. How many of the total shows (full csv list) are on each streaming service?\n",
                "2. What percentage of these total shows is available on each streaming service?\n",
                "\n",
                "**Hint**:\n",
                "\n",
                "Use the pandas `query` method to filter the data, and then the Python `len` method to find it's length. [Relevant Link](https://www.geeksforgeeks.org/ways-to-filter-pandas-dataframe-by-column-values/)"
            ]
        },
        {
            "cell_type": "code",
            "execution_count": 21,
            "metadata": {
                "azdata_cell_guid": "8e4f3757-474f-4e20-b861-db973437b541"
            },
            "outputs": [
                {
                    "name": "stdout",
                    "output_type": "stream",
                    "text": [
                        "Number of shows on each streaming service:\n",
                        "Netflix: 1971\n",
                        "Hulu: 1621\n",
                        "Prime Video: 1831\n",
                        "Disney+: 351\n",
                        "\n",
                        "Percentage of shows available on each streaming service:\n",
                        "Netflix: 36.72%\n",
                        "Hulu: 30.20%\n",
                        "Prime Video: 34.11%\n",
                        "Disney+: 6.54%\n"
                    ]
                }
            ],
            "source": [
                "\n",
                "\n",
                "# Count shows on each streaming service\n",
                "netflix_count = len(df[df['Netflix'] == 1])\n",
                "hulu_count = len(df[df['Hulu'] == 1])\n",
                "prime_count = len(df[df['Prime Video'] == 1])\n",
                "disney_count = len(df[df['Disney_Plus'] == 1])\n",
                "\n",
                "# Calculate total number of shows\n",
                "total_shows = len(df)\n",
                "\n",
                "# Calculate percentages\n",
                "netflix_percentage = (netflix_count / total_shows) * 100\n",
                "hulu_percentage = (hulu_count / total_shows) * 100\n",
                "prime_percentage = (prime_count / total_shows) * 100\n",
                "disney_percentage = (disney_count / total_shows) * 100\n",
                "\n",
                "# Print results\n",
                "print(\"Number of shows on each streaming service:\")\n",
                "print(f\"Netflix: {netflix_count}\")\n",
                "print(f\"Hulu: {hulu_count}\")\n",
                "print(f\"Prime Video: {prime_count}\")\n",
                "print(f\"Disney+: {disney_count}\")\n",
                "\n",
                "print(\"\\nPercentage of shows available on each streaming service:\")\n",
                "print(f\"Netflix: {netflix_percentage:.2f}%\")\n",
                "print(f\"Hulu: {hulu_percentage:.2f}%\")\n",
                "print(f\"Prime Video: {prime_percentage:.2f}%\")\n",
                "print(f\"Disney+: {disney_percentage:.2f}%\")"
            ]
        },
        {
            "attachments": {},
            "cell_type": "markdown",
            "metadata": {
                "azdata_cell_guid": "167cbd0d-ad9f-4f27-8066-e45dfdfaf421"
            },
            "source": [
                "\n",
                "Now join your `watchlist` data to the `shows` data using pandas or SQL. Verify that you joined the data correctly.\n",
                "\n",
                "Using this related dataset, come up with analytic code that answers these questions:\n",
                "1. The number of watchlist shows each streaming service has\n",
                "2. The percentage of your overall watchlist each streaming service has\n"
            ]
        },
        {
            "cell_type": "code",
            "execution_count": 22,
            "metadata": {
                "azdata_cell_guid": "b871523e-a476-4f3a-a6ac-2e251f140e84"
            },
            "outputs": [
                {
                    "name": "stdout",
                    "output_type": "stream",
                    "text": [
                        "Joined data:\n",
                        "   id                           title  importance_rank  Netflix  Hulu  \\\n",
                        "0   1                       Wednesday               10      NaN   NaN   \n",
                        "1   2                    Heartstopper                9      NaN   NaN   \n",
                        "2   3                  Family Reunion                8      1.0   0.0   \n",
                        "3   4  Jurassic World Camp Cretaceous                7      NaN   NaN   \n",
                        "4   5               Gabby's Dollhouse                6      1.0   0.0   \n",
                        "5   6                          Cosmos                5      0.0   1.0   \n",
                        "6   7           Malcolm in the Middle                4      0.0   1.0   \n",
                        "7   8                    Fuller House                3      1.0   0.0   \n",
                        "8   9                    Raising Dion                2      1.0   0.0   \n",
                        "9  10          The Last Kids on Earth                1      1.0   0.0   \n",
                        "\n",
                        "   Prime Video  Disney_Plus  \n",
                        "0          NaN          NaN  \n",
                        "1          NaN          NaN  \n",
                        "2          0.0          0.0  \n",
                        "3          NaN          NaN  \n",
                        "4          0.0          0.0  \n",
                        "5          1.0          1.0  \n",
                        "6          0.0          0.0  \n",
                        "7          0.0          0.0  \n",
                        "8          0.0          0.0  \n",
                        "9          0.0          0.0  \n",
                        "\n",
                        "Number of watchlist shows on each streaming service:\n",
                        "Netflix        5.0\n",
                        "Hulu           2.0\n",
                        "Prime Video    1.0\n",
                        "Disney_Plus    1.0\n",
                        "dtype: float64\n",
                        "\n",
                        "Percentage of watchlist shows on each streaming service:\n",
                        "Netflix        50.0\n",
                        "Hulu           20.0\n",
                        "Prime Video    10.0\n",
                        "Disney_Plus    10.0\n",
                        "dtype: float64\n"
                    ]
                }
            ],
            "source": [
                "# Code here\n",
                "\n",
                "# Join watchlist with shows\n",
                "cursor.execute('''\n",
                "SELECT w.*, s.Netflix, s.Hulu, s.\"Prime Video\", s.\"Disney_Plus\"\n",
                "FROM watchlist w\n",
                "LEFT JOIN shows s ON w.title = s.Title\n",
                "''')\n",
                "\n",
                "joined_data = cursor.fetchall()\n",
                "\n",
                "# Create a DataFrame from the joined data\n",
                "columns = ['id', 'title', 'importance_rank', 'Netflix', 'Hulu', 'Prime Video', 'Disney_Plus']\n",
                "df_joined = pd.DataFrame(joined_data, columns=columns)\n",
                "\n",
                "print(\"Joined data:\")\n",
                "print(df_joined)\n",
                "\n",
                "# 1. Number of watchlist shows each streaming service has\n",
                "streaming_counts = df_joined[['Netflix', 'Hulu', 'Prime Video', 'Disney_Plus']].sum()\n",
                "\n",
                "print(\"\\nNumber of watchlist shows on each streaming service:\")\n",
                "print(streaming_counts)\n",
                "\n",
                "# 2. Percentage of overall watchlist each streaming service has\n",
                "total_shows = len(df_joined)\n",
                "streaming_percentages = (streaming_counts / total_shows) * 100\n",
                "\n",
                "print(\"\\nPercentage of watchlist shows on each streaming service:\")\n",
                "print(streaming_percentages)"
            ]
        },
        {
            "cell_type": "markdown",
            "metadata": {
                "azdata_cell_guid": "909689e4-1aae-41e3-b1f8-158ebe5ec3ca"
            },
            "source": [
                "## Results\n",
                "\n",
                "Now that you have done your analysis, make note of the answers to the following questions by editing the text cell:\n",
                "\n",
                "1. Was every show on your watchlist in the Kaggle dataset? Do you have any ideas as to why a show might not have been present?\n",
                "\n",
                "- There are several possibilties example:\n",
                "    1) The dataset in Kaggle was updated 3 years ago and my show might be newer\n",
                "    2) There might be spelling or space differences. For example, I would called it Heartstopper while the Kaggle dataset has it as \"Heart Stopper\" with a space - That was not the case here but is a possiblity\n",
                "\n",
                "2. Did you include a show or shows in your watchlist that is exclusive to one of the platforms? How might that have impacted your analysis?\n",
                "\n",
                "-  Looks like most of the my shows are only from Netflix and one from Hulu. Only one show is on all 3 platform. This makes it trivial to identify value. However if there was a lot more overlap, it would take more effort\n",
                "\n",
                "3. Which streaming service(s) offered the most shows on your watchlist? Which streaming service(s) offered the least?\n",
                "\n",
                "-  Netflix has the most, Hulu comes a distant 2nd, Prime and Disney are last. In addition the show that is on Prime and Disney is present in Netflix and Hulu as well. \n",
                "\n",
                "4. Based on the shows you want to watch and the results of your analysis, is there a streaming service you think would be a good fit for you?\n",
                "\n",
                "-  Yes - Netflix would be the best value. The show that is exclusive on Hulu is not huge favorite so wouldn't mind dropping Hulu"
            ]
        },
        {
            "cell_type": "markdown",
            "metadata": {},
            "source": [
                "# Bonus Mission\n",
                "\n",
                "We didn't end up using that `importance_rank` field, did we?\n",
                "\n",
                "Well, that was intentional! \n",
                "\n",
                "Your bonus mission is to come up with analysis that uses that field to determine, based on watchlist show importance_rank and number of watchlist shows available on a service, which platform you should subscribe to."
            ]
        },
        {
            "cell_type": "code",
            "execution_count": 23,
            "metadata": {},
            "outputs": [],
            "source": [
                "# Code Here"
            ]
        }
    ],
    "metadata": {
        "kernelspec": {
            "display_name": "Python 3",
            "language": "python",
            "name": "python3"
        },
        "language_info": {
            "codemirror_mode": {
                "name": "ipython",
                "version": 3
            },
            "file_extension": ".py",
            "mimetype": "text/x-python",
            "name": "python",
            "nbconvert_exporter": "python",
            "pygments_lexer": "ipython3",
            "version": "3.12.5"
        }
    },
    "nbformat": 4,
    "nbformat_minor": 2
}
